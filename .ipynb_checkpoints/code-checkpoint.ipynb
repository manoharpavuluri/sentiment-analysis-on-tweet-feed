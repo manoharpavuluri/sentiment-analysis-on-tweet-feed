{
 "cells": [
  {
   "cell_type": "code",
   "execution_count": 3,
   "metadata": {},
   "outputs": [],
   "source": [
    "import pandas as pd\n",
    "import numpy as np\n",
    "import tweepy\n",
    "from wordcloud import WordCloud\n",
    "from textblob import TextBlob\n",
    "import re\n",
    "import matplotlib.pyplot as plt"
   ]
  },
  {
   "cell_type": "code",
   "execution_count": 26,
   "metadata": {},
   "outputs": [
    {
     "name": "stdout",
     "output_type": "stream",
     "text": [
      "consumer key: sfTIjgAt4fjSdYNsAyw26tayF\n",
      "consumer secret: zU4fFM1Nw3Szpsr1W2tii6RyRXigDAxvmIYlKEvQJ0VLYRAtBb\n",
      "access token: 21937369-gcpvqAJuQAN16sCsbFqNdfmJrzaeaUl8afzB31LjZ\n",
      "access token secret: 8YVu9gArnqEZZ0yHV7MFy7h47SxqZb8OIWwbUvWegDLMQ\n"
     ]
    }
   ],
   "source": [
    "keyFile = open('/Users/dad/Documents/twitterapi/twitter.key','r')\n",
    "consumer_key = keyFile.readline().replace('consumer_key:','').rstrip()\n",
    "consumer_secret = keyFile.readline().replace('consumer_secret:','').rstrip()\n",
    "access_token = keyFile.readline().replace('access_token:','').rstrip()\n",
    "access_token_secret = keyFile.readline().replace('access_token_secret:','').rstrip()\n",
    "keyFile.close()\n",
    "print(\"consumer key: \" + consumer_key)\n",
    "print(\"consumer secret: \" + consumer_secret)\n",
    "print(\"access token: \" + access_token)\n",
    "print(\"access token secret: \" + access_token_secret)"
   ]
  },
  {
   "cell_type": "code",
   "execution_count": 27,
   "metadata": {},
   "outputs": [],
   "source": [
    "auth = tweepy.OAuthHandler(consumer_key, consumer_secret)\n",
    "auth.set_access_token(access_token, access_token_secret)"
   ]
  },
  {
   "cell_type": "code",
   "execution_count": 28,
   "metadata": {},
   "outputs": [],
   "source": [
    "api = tweepy.API(auth,wait_on_rate_limit = True)"
   ]
  },
  {
   "cell_type": "code",
   "execution_count": 33,
   "metadata": {},
   "outputs": [
    {
     "name": "stdout",
     "output_type": "stream",
     "text": [
      "Show the 5 recent tweets:\n",
      "\n",
      "1) ....after you Vote, which it should not, that Ballot will not be used or counted in that your vote has already been cast &amp; tabulated. YOU ARE NOW ASSURED THAT YOUR PRECIOUS VOTE HAS BEEN COUNTED, it hasn’t been “lost, thrown out, or in any way destroyed”. GOD BLESS AMERICA!!!\n",
      "\n",
      "2) .....go to your Polling Place to see whether or not your Mail In Vote has been Tabulated (Counted). If it has you will not be able to Vote &amp; the Mail In System worked properly. If it has not been Counted, VOTE (which is a citizen’s right to do). If your Mail In Ballot arrives....\n",
      "\n",
      "3) Based on the massive number of Unsolicited &amp; Solicited Ballots that will be sent to potential Voters for the upcoming 2020 Election, &amp; in order for you to MAKE SURE YOUR VOTE COUNTS &amp; IS COUNTED, SIGN &amp; MAIL IN your Ballot as EARLY as possible. On Election Day, or Early Voting,..\n",
      "\n",
      "4) .@NYGovCuomo should get his puppet New York prosecutors, who have been illegally after me and my family for years, to investigate his incompetent handling of the China Virus, and all of the deaths caused by this incompetence. It is at minimum a Nursing Home Scandal - 11,000 DEAD!\n",
      "\n",
      "5) Sleepy Joe Hiden’ was acknowledged by his own people to have done a terrible job on a much easier situation, H1N1 Swine Flu. The OBiden Administration failed badly on this, &amp; now he sits back in his basement and criticizes every move we make on the China Virus. DOING GREAT JOB! https://t.co/p2H40mD7Sh\n",
      "\n"
     ]
    }
   ],
   "source": [
    "# Extract 100 tweets from the twitter user\n",
    "posts = api.user_timeline(screen_name=\"realDonaldTrump\", count = 100, lang =\"en\", tweet_mode=\"extended\")\n",
    "\n",
    "#  Print the last 5 tweets\n",
    "print(\"Show the 5 recent tweets:\\n\")\n",
    "i=1\n",
    "for tweet in posts[:5]:\n",
    "    print(str(i) +') '+ tweet.full_text + '\\n')\n",
    "    i= i+1"
   ]
  },
  {
   "cell_type": "code",
   "execution_count": null,
   "metadata": {},
   "outputs": [],
   "source": []
  },
  {
   "cell_type": "code",
   "execution_count": null,
   "metadata": {},
   "outputs": [],
   "source": []
  },
  {
   "cell_type": "code",
   "execution_count": null,
   "metadata": {},
   "outputs": [],
   "source": []
  },
  {
   "cell_type": "code",
   "execution_count": null,
   "metadata": {},
   "outputs": [],
   "source": []
  },
  {
   "cell_type": "code",
   "execution_count": null,
   "metadata": {},
   "outputs": [],
   "source": []
  },
  {
   "cell_type": "code",
   "execution_count": null,
   "metadata": {},
   "outputs": [],
   "source": []
  },
  {
   "cell_type": "code",
   "execution_count": null,
   "metadata": {},
   "outputs": [],
   "source": []
  }
 ],
 "metadata": {
  "kernelspec": {
   "display_name": "Python 3",
   "language": "python",
   "name": "python3"
  },
  "language_info": {
   "codemirror_mode": {
    "name": "ipython",
    "version": 3
   },
   "file_extension": ".py",
   "mimetype": "text/x-python",
   "name": "python",
   "nbconvert_exporter": "python",
   "pygments_lexer": "ipython3",
   "version": "3.7.6"
  }
 },
 "nbformat": 4,
 "nbformat_minor": 4
}
